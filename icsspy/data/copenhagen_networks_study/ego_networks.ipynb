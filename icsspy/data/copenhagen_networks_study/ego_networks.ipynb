{
 "cells": [
  {
   "cell_type": "markdown",
   "metadata": {},
   "source": [
    "# Personal Networks Assignment"
   ]
  },
  {
   "cell_type": "code",
   "execution_count": null,
   "metadata": {},
   "outputs": [],
   "source": [
    "import pandas as pd\n",
    "import numpy as np\n",
    "import networkx as nx \n",
    "import community\n",
    "from networkx.algorithms.community import k_clique_communities\n",
    "import community\n",
    "import matplotlib.pyplot as plt\n",
    "import os\n",
    "# for block modelling \n",
    "from sklearn.metrics.pairwise import euclidean_distances\n",
    "from scipy.cluster import hierarchy\n",
    "from scipy.spatial.distance import pdist"
   ]
  },
  {
   "cell_type": "code",
   "execution_count": null,
   "metadata": {},
   "outputs": [],
   "source": [
    "pns = 'data/egos/' # as downloaded from LEARN with no manual modifications"
   ]
  },
  {
   "cell_type": "code",
   "execution_count": null,
   "metadata": {},
   "outputs": [],
   "source": [
    "students = {}\n",
    "for root, dirlist, filelist in os.walk(pns):\n",
    "    for filename in filelist:\n",
    "        if 'csv' in filename:\n",
    "            full = os.path.join(root, filename)\n",
    "            who = full.split('-')[2:4]\n",
    "            surname = who[0].split(' ')\n",
    "            surname = surname[1]\n",
    "            snum = who[1].replace(' ','')\n",
    "            who = f'{surname}_{snum}'\n",
    "            students[who] = full"
   ]
  },
  {
   "cell_type": "code",
   "execution_count": null,
   "metadata": {},
   "outputs": [],
   "source": [
    "def construct_network(path):\n",
    "    df = pd.read_csv(path)\n",
    "    ego = df['Unnamed: 0'].loc[0]\n",
    "    df.set_index('Unnamed: 0', inplace=True)\n",
    "    df.reset_index()\n",
    "    df.fillna(0, inplace=True)\n",
    "    df\n",
    "    g = nx.from_pandas_adjacency(df)\n",
    "    g.remove_node(ego)\n",
    "    return g"
   ]
  },
  {
   "cell_type": "code",
   "execution_count": null,
   "metadata": {},
   "outputs": [],
   "source": [
    "problems = []\n",
    "graphs = {}\n",
    "\n",
    "for k,v in students.items():\n",
    "    try:\n",
    "        g = construct_network(v)\n",
    "        graphs[k] = g\n",
    "    except:\n",
    "        #print(f\"Problem with {k}'s data.\")\n",
    "        problems.append(k)"
   ]
  },
  {
   "cell_type": "code",
   "execution_count": null,
   "metadata": {},
   "outputs": [],
   "source": [
    "print(f'There are problems with {len(problems)} files.')"
   ]
  },
  {
   "cell_type": "code",
   "execution_count": null,
   "metadata": {},
   "outputs": [],
   "source": [
    "# students"
   ]
  },
  {
   "cell_type": "markdown",
   "metadata": {},
   "source": [
    "# Processing Individual Submissions"
   ]
  },
  {
   "cell_type": "code",
   "execution_count": null,
   "metadata": {},
   "outputs": [],
   "source": [
    "def ecdf(data):\n",
    "    \"\"\" Compute ECDF \"\"\"\n",
    "    x = np.sort(data)\n",
    "    y = np.arange(1, len(data)+1) / len(data)\n",
    "    return(x,y)    \n",
    "    \n",
    "    \n",
    "def louvain(g, layout, student_graph):\n",
    "    comps = sorted(nx.connected_components(g), key=len, reverse=True)\n",
    "    giant = g.subgraph(comps[0])\n",
    "    g = giant\n",
    "\n",
    "    partition = community.best_partition(g)\n",
    "    modularity = community.modularity(partition, g)\n",
    "    \n",
    "    colors = [partition[n] for n in g.nodes()]\n",
    "    my_colors = plt.cm.Set2\n",
    "    \n",
    "    fig, ax = plt.subplots(figsize=(20,15))\n",
    "    nx.draw_networkx_nodes(g,pos=layout, node_size=500, node_color=colors, cmap = my_colors) \n",
    "    nx.draw_networkx_edges(g, pos=layout, width=2, edge_color='lightgray', alpha=.9)\n",
    "    nx.draw_networkx_labels(g, pos=layout, font_size=10)\n",
    "    plt.title('Giant Component')\n",
    "    plt.axis('off')    \n",
    "    plt.savefig(f'personal_networks/{student_graph}_louvain.png', dpi=300, bbox_inches='tight',pad_inches = .1)\n",
    "    plt.close()\n",
    "    \n",
    "    return comps\n",
    "    \n",
    "    \n",
    "def node_level(g, student_graph):\n",
    "    d = nx.degree_centrality(g)\n",
    "    b = nx.betweenness_centrality(g)\n",
    "    e = nx.eigenvector_centrality(g, max_iter=600)\n",
    "    triangles = nx.triangles(g)\n",
    "    df = pd.DataFrame([triangles, d, e, b]).T\n",
    "    df.columns = ['Number of Closed Triads (Triangles)', 'Degree Centrality', 'Eigenvector Centrality', 'Betweenness Centrality']\n",
    "    df = df.sort_values('Number of Closed Triads (Triangles)', ascending = False)\n",
    "    \n",
    "    xd, yd = ecdf(pd.Series(pd.Series(d)))\n",
    "    xe, ye = ecdf(pd.Series(pd.Series(e)))\n",
    "    xb, yb = ecdf(pd.Series(pd.Series(b)))\n",
    "\n",
    "    fig,ax = plt.subplots(figsize=(12,8))\n",
    "    ax.scatter(xd,yd, c='#32363A', alpha=.6, s=50, marker='o', label='Degree Centrality')\n",
    "    ax.scatter(xe,ye, c='crimson', alpha=.6, s=50, marker='o', label='Eigenvector Centrality')\n",
    "    ax.scatter(xb,yb, c='orange', alpha=.6, s=50, marker='o', label='Betweenness Centrality')\n",
    "\n",
    "    # interquartile range with median\n",
    "    ax.set_yticks([0,.25, .5, .75, 1])\n",
    "    ax.set_xticks([0,.1,.2,.3,.4,.5,.6,.7,.8,.9,.1])\n",
    "\n",
    "    ax.axhline(.5, c='darkgray', linewidth=2) # central tendency: median value\n",
    "    ax.axhline(.25, c='darkgray', linestyle=\"--\", linewidth=2) # 25th percentile\n",
    "    ax.axhline(.75, c='darkgray', linestyle=\"--\", linewidth=2) # 75th percentile\n",
    "\n",
    "    plt.xlabel('Centrality')\n",
    "    plt.ylabel('Cumulative Fraction')\n",
    "    plt.xlim(-.02, 1.1)\n",
    "    plt.legend(loc='lower right')\n",
    "    \n",
    "    plt.savefig(f'personal_networks/{student_graph}_ecdf.png', dpi=600, bbox_inches='tight',pad_inches = .02)\n",
    "    plt.close()\n",
    "    \n",
    "    return df, df.to_markdown()\n",
    "\n",
    "\n",
    "\n",
    "def assignment_1(student_graph):\n",
    "    print(f'Processing {student_graph}...')\n",
    "    g = graphs[student_graph]\n",
    "    layout = nx.kamada_kawai_layout(g)\n",
    "    \n",
    "    # see(g, layout, student_graph)\n",
    "    comps = louvain(g, layout, student_graph)\n",
    "    \n",
    "    # overlap, anykcc, kcce = kcliques(g)\n",
    "    # highlight_kclique(g, layout, anykcc, kcce, student_graph)\n",
    "    \n",
    "    df, dfm = node_level(g, student_graph)    \n",
    "    \n",
    "    with open(f'personal_networks/{student_graph}.md', 'w') as f:\n",
    "        # f.write(f'\\n\\n![](personal_networks/{student_graph}_intro.png)\\n\\n')\n",
    "        f.write(f'# Personal Network ({student_graph})\\n\\n')\n",
    "        f.write(f'## General Instructions \\n\\n This assignment requires you to answer three sets of related questions. Each is embedded in the text below. Please limit yourself to approximately 200 words per question set. If you require a little more or a little less, that is OK. **Write your answers directly in this document** and then upload it to the Learn dropbox.\\n\\nEverything you need to know to answer the questions in this assignment to our satisfaction is contained in the assigned readings and the lecture videos on social networks. However, if there is anything you are unsure about, please do not hesitate to reach out to me or one of the Teaching Assistants if you have questions.\\n\\n - John\\n\\n')\n",
    "        f.write(f'**UPDATE:** When I initially sent this assignment, I (a) included you in the network and (b) used a $k$-clique community detection to see if you would reason through the implicaitons of leaving you in the network. Given the number of students who are interested in seeing the stucture of their networks (a) without themselves in it and (b) using a different community detection approach, I changed the analysis. **You can use this version for your assignment or the one I previously shared. The choice is yours.**')\n",
    "        f.write(f'\\n\\n# Centrality Analysis\\n\\n')\n",
    "        f.write('The table below provdes the number of closed triads (simply triangles, since this is an undirected network) that each node in your personal network is embedded in, as well as their degree centrality, eigenvector centrality, and betweenness centrality (calculated using shortest paths). The table is sorted so that the most embedded nodes (i.e. in the most triangles) appear first.\\n\\n')\n",
    "        f.write('\\n\\n')\n",
    "        f.write(dfm)\n",
    "        f.write('\\n\\n')\n",
    "        f.write('**Question Set 1**: How do these results compare to your previous expectations? Do any nodes have higher or lower degree, eigenvector, or betweenness centrality that you expected? Why or why not? Are there any people in your personal network that are more (or less) embedded than you previously expected?\\n\\n')\n",
    "        f.write('> *Write your answer here...* Please try to limit yourself to about 200 words.\\n\\n')\n",
    "        f.write(f'The plot below shows the distribution of degree centrality, eigenvector centrality, and degree centrality scores. It is an ECDF plot (like the ones I have been using in the lectures) that shows the full spread of the data, and highlights the 25th, 50th, and 75th percentiles with horizontal gray lines.\\n\\n**Question Set 2**: Building on your answers to the previous question set, please interpret this graph. In general (i.e. beyond any specific person), what does this graph tell you about how well-connected the people in your network are? Are there any surprises here for you? If so, what and why are they surprising? If not, why is this not surprising to you?\\n\\n')\n",
    "        f.write('> *Write your answer here...* Please try to limit yourself to about 200 words.\\n\\n')\n",
    "        f.write(f'![ECDF of Centrality Scores](personal_networks/{student_graph}_ecdf.png)')\n",
    "        f.write('\\n\\n# Cohesive Subgroups\\n\\n')    \n",
    "        f.write('The figure below highlights classifies nodes into different communities using the Louvain community detection approach discussed in the lecture on cohesive subgroups. Recall from the lecture that a community is a cluster of nodes where the connections within the community are denser to connections to nodes external to the community. One of the limitations of this method is that a node can only be assigned to one community.\\n\\n')\n",
    "\n",
    "        if len(comps) > 1:\n",
    "            f.write('When you are removed from the network, the following nodes are disconnected from the \"giant component\" (which is the largest group of connected nodes in the network, and is what is shown in the figure below). When these disconnected nodes are on their own, we usually call them \"isolates\" (but you can also call them a \"component,\" just not the *giant* component.).\\n\\n')\n",
    "            for i,g in enumerate(comps[1:]):\n",
    "                f.write(f'Component {i+1}: {list(g)}')\n",
    "        \n",
    "        f.write(f'![Louvain Community Detection](personal_networks/{student_graph}_louvain.png)\\n\\n')\n",
    "        f.write('**Question Set 3**: Are these the cohesive subgroups that you would expect to see? Why or why not? Are nodes part of clusters that you would expect them to be in? Are there communities in this network that are *not* captured by the Louvain community analysis? Why do you think they were not identified by the analysis conducted here?')\n",
    "        f.write('\\n\\n> *Write your answer here...* Please try to limit yourself to about 200 words.\\n\\n')\n",
    "    \n",
    "        # f.write(f'The figure below highlights all of the nodes and edges that are embedded in $k$-clique communities ($k$ = 3). Recall from the lecture that a $k$-clique community (a) consists of at least one clique where all nodes are connected to $k$ other nodes, and (b) which may overlap with other $k$-cliques. One of the strenghs of $k$-clique analysis is that single nodes can be part of multiple $k$-cliques. As you can see in the figure below, there are {len(anykcc)} $k$-clique communities in your personal network.\\n\\n')\n",
    "        \n",
    "        # if len(anykcc) > 1:\n",
    "            # f.write(f'These are the nodes that are embedded in at least one $k$-clique: {anykcc}.\\n\\n')\n",
    "        \n",
    "        # f.write(f'![$k$-clique analysis](personal_networks/{student_graph}_kcc.png)\\n\\n')\n",
    "        # f.write('**Question Set 3**: Are these the cohesive subgroups that you would expect to see? Why or why not? Are nodes part of clusters that you would expect them to be in? Are there communities in this network that are *not* captured by the $k$-clique community analysis? Why do you think they were not identified by the analysis conducted here?')\n",
    "        # f.write('\\n\\n> *Write your answer here...* Please try to limit yourself to about 200 words.\\n\\n')\n",
    "            \n",
    "    command = f'pandoc --reference-doc=template.docx personal_networks/{student_graph}.md -o personal_networks/{student_graph}.docx'\n",
    "    os.system(command)\n",
    "    print(f'Finished processing {student_graph}')\n",
    "\n",
    "    del g # whipe the slate clean for the next student..."
   ]
  },
  {
   "cell_type": "code",
   "execution_count": null,
   "metadata": {},
   "outputs": [],
   "source": [
    "image_path = '/Users/johnmclevey/Documents/work/teaching/courses/INTEG120/assignments/egos/block_models/'\n",
    "\n",
    "def equiv(student_graph):\n",
    "    g = graphs[student_graph]\n",
    "    ego_am = nx.adjacency_matrix(g)\n",
    "    distances = euclidean_distances(ego_am)\n",
    "    \n",
    "    Z = hierarchy.linkage(distances, 'ward')\n",
    "    \n",
    "    plt.figure(figsize=(12, 10))\n",
    "    plt.title('Hierarchical Clustering of Structural Profiles')\n",
    "    plt.xlabel('Distance (Lower Scores Indicate More Structural Similarity)')\n",
    "\n",
    "    d = hierarchy.dendrogram(\n",
    "        Z,\n",
    "        distance_sort=True,\n",
    "        leaf_rotation=0,  # rotates the x axis labels\n",
    "        leaf_font_size=8,  # font size for the x axis labels\n",
    "        orientation='right', \n",
    "        labels = [n for n in g.nodes()])\n",
    "    \n",
    "    plt.savefig(f'{image_path}{student_graph}.pdf', bbox_inches='tight',pad_inches = 0.5)    "
   ]
  },
  {
   "cell_type": "code",
   "execution_count": null,
   "metadata": {},
   "outputs": [],
   "source": [
    "equiv('Storey_20900576')"
   ]
  },
  {
   "cell_type": "markdown",
   "metadata": {},
   "source": [
    "# Assignment 1"
   ]
  },
  {
   "cell_type": "code",
   "execution_count": null,
   "metadata": {},
   "outputs": [],
   "source": [
    "# issues = []\n",
    "\n",
    "# for k, v in graphs.items():\n",
    "#     try:\n",
    "#         assignment_1(k)\n",
    "#     except:\n",
    "#         issues.append(k)"
   ]
  },
  {
   "cell_type": "markdown",
   "metadata": {},
   "source": [
    "# Assignment 2"
   ]
  },
  {
   "cell_type": "code",
   "execution_count": null,
   "metadata": {},
   "outputs": [],
   "source": [
    "issues = []\n",
    "\n",
    "for k, v in graphs.items():\n",
    "    try:\n",
    "        equiv(k)\n",
    "    except:\n",
    "        issues.append(k)"
   ]
  },
  {
   "cell_type": "code",
   "execution_count": null,
   "metadata": {},
   "outputs": [],
   "source": [
    "issues"
   ]
  },
  {
   "cell_type": "code",
   "execution_count": null,
   "metadata": {},
   "outputs": [],
   "source": [
    "assignment_1('Schaefer_20904248')"
   ]
  },
  {
   "cell_type": "code",
   "execution_count": null,
   "metadata": {},
   "outputs": [],
   "source": []
  }
 ],
 "metadata": {
  "kernelspec": {
   "display_name": "Python 3",
   "language": "python",
   "name": "python3"
  },
  "language_info": {
   "codemirror_mode": {
    "name": "ipython",
    "version": 3
   },
   "file_extension": ".py",
   "mimetype": "text/x-python",
   "name": "python",
   "nbconvert_exporter": "python",
   "pygments_lexer": "ipython3",
   "version": "3.8.3"
  }
 },
 "nbformat": 4,
 "nbformat_minor": 4
}
