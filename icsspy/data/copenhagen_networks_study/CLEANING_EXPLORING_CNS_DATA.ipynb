{
 "cells": [
  {
   "cell_type": "markdown",
   "id": "0",
   "metadata": {},
   "source": [
    "# Data from the Copenhagen Networks Study\n",
    "\n",
    "The data here comes from the Copenhagen Networks Study. \n",
    "\n",
    "- [Data download](https://figshare.com/articles/dataset/The_Copenhagen_Networks_Study_interaction_data/7267433/1)\n",
    "- [Data overview](https://www.nature.com/articles/s41597-019-0325-x.pdf)"
   ]
  },
  {
   "cell_type": "code",
   "execution_count": null,
   "id": "1",
   "metadata": {},
   "outputs": [],
   "source": [
    "import pandas as pd\n",
    "import networkx as nx\n",
    "import matplotlib as mpl\n",
    "import matplotlib.pyplot as plt\n",
    "import seaborn as sns\n",
    "from dcss.plotting import custom_seaborn\n",
    "custom_seaborn()\n",
    "from collections import Counter"
   ]
  },
  {
   "cell_type": "code",
   "execution_count": null,
   "id": "2",
   "metadata": {},
   "outputs": [],
   "source": [
    "from dcss.paths import copenhagen_networks_path\n",
    "bluetooth_contact = pd.read_csv(copenhagen_networks_path / \"bt_symmetric.csv\", sep=',')\n",
    "phone_calls = pd.read_csv(copenhagen_networks_path / \"calls.csv\", sep=',') \n",
    "sms_messages = pd.read_csv(copenhagen_networks_path / \"sms.csv\", sep=',') \n",
    "facebook_friendship = pd.read_csv(copenhagen_networks_path / \"fb_friends.csv\", sep=',') "
   ]
  },
  {
   "cell_type": "markdown",
   "id": "3",
   "metadata": {},
   "source": [
    "## Bluetooth Contact Networks\n",
    "\n",
    "The bluetooth contact network data contains 4 variables:\n",
    "\n",
    "- `timestamp`:\n",
    "- `user A`:\n",
    "- `user B`:\n",
    "- `received signal strength (RSSI)`:\n",
    "\n",
    "Key information about data collection:\n",
    "\n",
    "- Each participants phone scanned to detect with devices within 10m/30ft every five minutes\n",
    "- Each participants phone is always discoverable on Bluetooth \n",
    "- RSSI is a proxy for physical distance, with higher measures indicating close proximity and lower measures indicating that the phones were greater distances apart\n",
    "- \"Empty scans are marked with user B = -1 and RSSI = 0\"\n",
    "- \"Scans of devices outside of the experiment are marked with user B = -2. All non-experiment devices are given the same ID.\""
   ]
  },
  {
   "cell_type": "code",
   "execution_count": null,
   "id": "4",
   "metadata": {},
   "outputs": [],
   "source": [
    "bluetooth_contact.head()"
   ]
  },
  {
   "cell_type": "code",
   "execution_count": null,
   "id": "5",
   "metadata": {},
   "outputs": [],
   "source": [
    "bluetooth_contact.sample(5)"
   ]
  },
  {
   "cell_type": "markdown",
   "id": "6",
   "metadata": {},
   "source": [
    "The timestamps are a bit weird. Disregard all that start with 0 for sure. After that they jump up to 300 and seem to change their increments at some points. Suspect this is due to privacy measures?"
   ]
  },
  {
   "cell_type": "code",
   "execution_count": null,
   "id": "7",
   "metadata": {},
   "outputs": [],
   "source": [
    "def get_sequential_timestamps(dataframe, timestamp, n_timestamps, timestamp_var='# timestamp'):\n",
    "    \"\"\"\n",
    "    Helper function for `get_timeframe()`\n",
    "    \n",
    "    Takes in a dataframe. Gets a list of the unique timestamps in the order they\n",
    "    appear in the data. Takes a specified timestep and the number of timesteps \n",
    "    to collect folling that one. Returns a sequence of timestamps as a list that\n",
    "    can be fed directly into the `get_timeframe()` function to return a \n",
    "    properly subsetted dataframe.\n",
    "    \"\"\"\n",
    "    ordered_timestamps = list(dataframe[timestamp_var].unique())\n",
    "    start = ordered_timestamps.index(timestamp)\n",
    "    end = start + n_timestamps\n",
    "    selected = ordered_timestamps[start:end]\n",
    "    return selected\n",
    "\n",
    "def get_timeframe(dataframe, timestamp, n_timestamps=1, timestamp_var='# timestamp'):\n",
    "    \"\"\"\n",
    "    It takes in the bluetooth dataframe as the first argument and a specific timestamp.\n",
    "    If that's all that's provided, then it will return all the edges for that timestamp\n",
    "    with the null scans (marked with negative scores for user_b) screened out.\n",
    "    \n",
    "    If n_timestamps is provided, it will return all the data for that many sequential \n",
    "    unique timestamps. \n",
    "    \"\"\"\n",
    "    timeframe = get_sequential_timestamps(dataframe, timestamp, n_timestamps, timestamp_var=timestamp_var)\n",
    "    df = dataframe[(dataframe['# timestamp'].isin(timeframe)) & (dataframe['user_b'] >= 0)] # screen out lonely scans\n",
    "    return df"
   ]
  },
  {
   "cell_type": "code",
   "execution_count": null,
   "id": "8",
   "metadata": {},
   "outputs": [],
   "source": [
    "bluetooth_contact['# timestamp'].sample(10)"
   ]
  },
  {
   "cell_type": "code",
   "execution_count": null,
   "id": "9",
   "metadata": {},
   "outputs": [],
   "source": [
    "max(bluetooth_contact['rssi'])"
   ]
  },
  {
   "cell_type": "code",
   "execution_count": null,
   "id": "10",
   "metadata": {},
   "outputs": [],
   "source": [
    "filtered = get_timeframe(bluetooth_contact, 1217400, 4032)  # 300 was old start, 288 was old number of steps\n",
    "# 2016 is roughly equivalent to a week \n",
    "\n",
    "# 1429500 and 144 was the other optipon.\n",
    "# 300 was first pass and was good.\n",
    "# 1429500 was selected randomly, just because its not \n",
    "# the EXACT START of the study (at least as released)\n",
    "filtered.head()"
   ]
  },
  {
   "cell_type": "code",
   "execution_count": null,
   "id": "11",
   "metadata": {},
   "outputs": [],
   "source": [
    "filtered = filtered[filtered['rssi'] > -60]"
   ]
  },
  {
   "cell_type": "code",
   "execution_count": null,
   "id": "12",
   "metadata": {},
   "outputs": [],
   "source": [
    "filtered.to_csv('cns_bluetooth_filtered.csv', index=False)"
   ]
  },
  {
   "cell_type": "code",
   "execution_count": null,
   "id": "13",
   "metadata": {},
   "outputs": [],
   "source": [
    "g_bluetooth_contact = nx.from_pandas_edgelist(filtered, 'user_a', 'user_b', create_using=nx.Graph())\n",
    "g_bluetooth_contact.name = 'CNS Bluetooth Contact'\n",
    "print(nx.info(g_bluetooth_contact))"
   ]
  },
  {
   "cell_type": "code",
   "execution_count": null,
   "id": "14",
   "metadata": {},
   "outputs": [],
   "source": [
    "layout = nx.nx_pydot.graphviz_layout(g_bluetooth_contact)"
   ]
  },
  {
   "cell_type": "code",
   "execution_count": null,
   "id": "15",
   "metadata": {},
   "outputs": [],
   "source": [
    "fig, ax = plt.subplots(figsize=(12, 12))\n",
    "nx.draw(g_bluetooth_contact,\n",
    "        pos=layout,\n",
    "        node_color='gray',\n",
    "        edge_color='lightgray',\n",
    "        node_size=10,\n",
    "        width=.5)\n",
    "plt.show()"
   ]
  },
  {
   "cell_type": "markdown",
   "id": "16",
   "metadata": {},
   "source": [
    "## Phone Calls"
   ]
  },
  {
   "cell_type": "code",
   "execution_count": null,
   "id": "17",
   "metadata": {},
   "outputs": [],
   "source": [
    "phone_calls.head()"
   ]
  },
  {
   "cell_type": "markdown",
   "id": "18",
   "metadata": {},
   "source": [
    "## SMS Messages"
   ]
  },
  {
   "cell_type": "code",
   "execution_count": null,
   "id": "19",
   "metadata": {},
   "outputs": [],
   "source": [
    "sms_messages.head()"
   ]
  },
  {
   "cell_type": "markdown",
   "id": "20",
   "metadata": {},
   "source": [
    "# COMMUNICATION NETWORKS\n",
    "\n",
    "- Phone calls and SMS messages combined"
   ]
  },
  {
   "cell_type": "code",
   "execution_count": null,
   "id": "21",
   "metadata": {},
   "outputs": [],
   "source": [
    "calls = phone_calls[['caller', 'callee', 'timestamp']]\n",
    "messages = sms_messages[['sender', 'recipient', 'timestamp']]"
   ]
  },
  {
   "cell_type": "code",
   "execution_count": null,
   "id": "22",
   "metadata": {},
   "outputs": [],
   "source": [
    "messages.columns = ['i', 'j', 'timestamp']\n",
    "calls.columns = ['i', 'j', 'timestamp']"
   ]
  },
  {
   "cell_type": "code",
   "execution_count": null,
   "id": "23",
   "metadata": {},
   "outputs": [],
   "source": [
    "communication = pd.concat([messages,calls])"
   ]
  },
  {
   "cell_type": "code",
   "execution_count": null,
   "id": "24",
   "metadata": {},
   "outputs": [],
   "source": [
    "communication.head()"
   ]
  },
  {
   "cell_type": "markdown",
   "id": "25",
   "metadata": {},
   "source": [
    "The code below groups the pairs and counts them up to get an edge weight. Crucially the order of `i` and `j` doesn't matter when we do things this way, so the edge weights are actually correct. "
   ]
  },
  {
   "cell_type": "code",
   "execution_count": null,
   "id": "26",
   "metadata": {},
   "outputs": [],
   "source": [
    "edges = list(communication[['i', 'j']].to_records(index=False))\n",
    "weighted_edges = Counter(tuple(sorted(tup)) for tup in edges)\n",
    "len(weighted_edges)"
   ]
  },
  {
   "cell_type": "code",
   "execution_count": null,
   "id": "27",
   "metadata": {},
   "outputs": [],
   "source": [
    "counter_as_tuples = weighted_edges.most_common(len(weighted_edges)) "
   ]
  },
  {
   "cell_type": "code",
   "execution_count": null,
   "id": "28",
   "metadata": {},
   "outputs": [],
   "source": [
    "G = nx.Graph()"
   ]
  },
  {
   "cell_type": "code",
   "execution_count": null,
   "id": "29",
   "metadata": {},
   "outputs": [],
   "source": [
    "for_networkx = [(we[0][0], we[0][1], we[1]) for we in counter_as_tuples]"
   ]
  },
  {
   "cell_type": "code",
   "execution_count": null,
   "id": "30",
   "metadata": {},
   "outputs": [],
   "source": [
    "with open('cns_weighted_communication_network.csv', 'w') as f:\n",
    "    f.write('i,j,weight\\n')\n",
    "    for edge in for_networkx:\n",
    "        f.write(f'{edge[0]},{edge[1]},{edge[2]}\\n')"
   ]
  },
  {
   "cell_type": "code",
   "execution_count": null,
   "id": "31",
   "metadata": {},
   "outputs": [],
   "source": []
  },
  {
   "cell_type": "code",
   "execution_count": null,
   "id": "32",
   "metadata": {},
   "outputs": [],
   "source": [
    "G.add_weighted_edges_from(for_networkx)"
   ]
  },
  {
   "cell_type": "code",
   "execution_count": null,
   "id": "33",
   "metadata": {},
   "outputs": [],
   "source": [
    "print(nx.info(G))"
   ]
  },
  {
   "cell_type": "code",
   "execution_count": null,
   "id": "34",
   "metadata": {},
   "outputs": [],
   "source": [
    "layout = nx.nx_pydot.graphviz_layout(G)"
   ]
  },
  {
   "cell_type": "code",
   "execution_count": null,
   "id": "35",
   "metadata": {},
   "outputs": [],
   "source": [
    "fig, ax = plt.subplots(figsize=(12, 12))\n",
    "nx.draw(G,\n",
    "        pos=layout,\n",
    "        node_color='gray',\n",
    "        edge_color='lightgray',\n",
    "        node_size=10,\n",
    "        width=.5)\n",
    "plt.show()"
   ]
  },
  {
   "cell_type": "code",
   "execution_count": null,
   "id": "36",
   "metadata": {},
   "outputs": [],
   "source": [
    "[e for e in G.edges(data=True)]"
   ]
  },
  {
   "cell_type": "code",
   "execution_count": null,
   "id": "37",
   "metadata": {},
   "outputs": [],
   "source": []
  },
  {
   "cell_type": "code",
   "execution_count": null,
   "id": "38",
   "metadata": {},
   "outputs": [],
   "source": []
  },
  {
   "cell_type": "code",
   "execution_count": null,
   "id": "39",
   "metadata": {},
   "outputs": [],
   "source": []
  },
  {
   "cell_type": "markdown",
   "id": "40",
   "metadata": {},
   "source": [
    "## Facebook Friends"
   ]
  },
  {
   "cell_type": "code",
   "execution_count": null,
   "id": "41",
   "metadata": {},
   "outputs": [],
   "source": [
    "facebook_friendship.head()"
   ]
  },
  {
   "cell_type": "code",
   "execution_count": null,
   "id": "42",
   "metadata": {},
   "outputs": [],
   "source": []
  },
  {
   "cell_type": "code",
   "execution_count": null,
   "id": "43",
   "metadata": {},
   "outputs": [],
   "source": []
  }
 ],
 "metadata": {
  "kernelspec": {
   "display_name": "Python 3",
   "language": "python",
   "name": "python3"
  },
  "language_info": {
   "codemirror_mode": {
    "name": "ipython",
    "version": 3
   },
   "file_extension": ".py",
   "mimetype": "text/x-python",
   "name": "python",
   "nbconvert_exporter": "python",
   "pygments_lexer": "ipython3",
   "version": "3.8.2"
  },
  "toc": {
   "base_numbering": 1,
   "nav_menu": {},
   "number_sections": false,
   "sideBar": true,
   "skip_h1_title": false,
   "title_cell": "Table of Contents",
   "title_sidebar": "Contents",
   "toc_cell": false,
   "toc_position": {},
   "toc_section_display": true,
   "toc_window_display": false
  },
  "varInspector": {
   "cols": {
    "lenName": 16,
    "lenType": 16,
    "lenVar": 40
   },
   "kernels_config": {
    "python": {
     "delete_cmd_postfix": "",
     "delete_cmd_prefix": "del ",
     "library": "var_list.py",
     "varRefreshCmd": "print(var_dic_list())"
    },
    "r": {
     "delete_cmd_postfix": ") ",
     "delete_cmd_prefix": "rm(",
     "library": "var_list.r",
     "varRefreshCmd": "cat(var_dic_list()) "
    }
   },
   "types_to_exclude": [
    "module",
    "function",
    "builtin_function_or_method",
    "instance",
    "_Feature"
   ],
   "window_display": false
  }
 },
 "nbformat": 4,
 "nbformat_minor": 5
}
