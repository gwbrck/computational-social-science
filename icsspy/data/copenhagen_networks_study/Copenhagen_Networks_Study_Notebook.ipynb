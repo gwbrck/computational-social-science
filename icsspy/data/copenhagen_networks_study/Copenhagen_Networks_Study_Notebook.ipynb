{
 "cells": [
  {
   "cell_type": "code",
   "execution_count": null,
   "metadata": {
    "colab": {},
    "colab_type": "code",
    "id": "c7AScAip6bkE"
   },
   "outputs": [],
   "source": [
    "import os\n",
    "import pandas as pd\n",
    "import matplotlib.pyplot as plt\n",
    "import networkx as nx\n",
    "import numpy as np\n",
    "import itertools\n",
    "%matplotlib inline"
   ]
  },
  {
   "cell_type": "code",
   "execution_count": null,
   "metadata": {
    "colab": {},
    "colab_type": "code",
    "id": "MOUk2BqA6mXh"
   },
   "outputs": [],
   "source": [
    "DATA_DIR = \"./\"\n",
    "DATA_FILENAMES = {\"bluetooth\": \"bt_symmetric.csv\",\n",
    "                  \"calls\": \"calls.csv\",\n",
    "                  \"sms\": \"sms.csv\",\n",
    "                  \"facebook_friends\": \"fb_friends.csv\",\n",
    "                  \"genders\": \"genders.csv\"}"
   ]
  },
  {
   "cell_type": "code",
   "execution_count": null,
   "metadata": {
    "colab": {},
    "colab_type": "code",
    "id": "ozelxeRzALo6"
   },
   "outputs": [],
   "source": [
    "def LoadData(data_filename, data_dir):\n",
    "  '''Loads data from |data_dir|/|data_filename|. Returns Pandas dataframe.'''\n",
    "  return pd.read_csv(os.path.join(data_dir, data_filename))  "
   ]
  },
  {
   "cell_type": "code",
   "execution_count": null,
   "metadata": {
    "colab": {
     "base_uri": "https://localhost:8080/",
     "height": 680
    },
    "colab_type": "code",
    "id": "aJhry9w082Wq",
    "outputId": "ea9a5979-b8e2-477a-980e-dd2c91fcae6d"
   },
   "outputs": [],
   "source": [
    "df_bt = LoadData(DATA_FILENAMES[\"bluetooth\"], DATA_DIR)\n",
    "print(\"bluetooth\\n\", df_bt.head())\n",
    "\n",
    "df_calls = LoadData(DATA_FILENAMES[\"calls\"], DATA_DIR)\n",
    "print(\"\\ncalls\\n\", df_calls.head())\n",
    "\n",
    "df_sms = LoadData(DATA_FILENAMES[\"sms\"], DATA_DIR)\n",
    "print(\"\\nsms\\n\", df_sms.head())\n",
    "\n",
    "df_facebook_friends = LoadData(DATA_FILENAMES[\"facebook_friends\"], DATA_DIR)\n",
    "print(\"\\nfacebook friends\\n\", df_facebook_friends.head())\n",
    "\n",
    "df_genders = LoadData(DATA_FILENAMES[\"genders\"], DATA_DIR)\n",
    "print(\"\\ngenders\\n\", df_genders.head())"
   ]
  },
  {
   "cell_type": "code",
   "execution_count": null,
   "metadata": {
    "colab": {
     "base_uri": "https://localhost:8080/",
     "height": 719
    },
    "colab_type": "code",
    "id": "XNXSLnDaFT0b",
    "outputId": "06099c3f-97eb-4a06-ee9e-dba107d93378"
   },
   "outputs": [],
   "source": [
    "def VisualizeBluetoothNetwork(df_bt, timestamp):\n",
    "  \"\"\" Plots each connected component in |df_bt| network at |timestamp|.\"\"\"\n",
    "  # NetworkX graph to plot the results.\n",
    "  G = nx.Graph()\n",
    "\n",
    "  # In-study users (id >= 0) at given timestamp.\n",
    "  in_study_users_at_timestamp = df_bt[(df_bt[\"# timestamp\"] == timestamp)\n",
    "                                      & (df_bt[\"user_b\"] >= 0)][[\n",
    "                                          \"user_a\", \"user_b\", \"rssi\"\n",
    "                                      ]]\n",
    "\n",
    "  # Builds an undirected network of the in-study users.\n",
    "  for row in in_study_users_at_timestamp.itertuples():\n",
    "    user_a = row[1]\n",
    "    user_b = row[2]\n",
    "    rssi = row[3]\n",
    "    G.add_edge(user_a, user_b, weight=rssi)\n",
    "\n",
    "  # For clarity, we consier each connected component separately.  \n",
    "  connected_components = list(nx.connected_component_subgraphs(G))\n",
    "  fig, axs = plt.subplots(1, len(connected_components), figsize=(60, 3))\n",
    "  \n",
    "  # Plots the connected components of the network.\n",
    "  fig.suptitle(\"network components at timestamp={}\".format(timestamp))\n",
    "  [\n",
    "      nx.draw(\n",
    "          connected_component,\n",
    "          # Positions of nodes are calculatued using spring layout.\n",
    "          pos=nx.spring_layout(connected_component, scale=0.2),\n",
    "          ax=axs[i],\n",
    "          # Width of the edges is based on higher RSSI = stronger edge.\n",
    "          width=[(100 + connected_component[u][v][\"weight\"]) / 10.0\n",
    "                 for u, v in connected_component.edges()],\n",
    "          node_size=500,\n",
    "          node_color=\"black\",\n",
    "          with_labels=True,\n",
    "          font_size=10,\n",
    "          font_color=\"white\")\n",
    "      for i, connected_component in enumerate(connected_components)\n",
    "  ]\n",
    "\n",
    "\n",
    "VisualizeBluetoothNetwork(df_bt, 0)\n",
    "VisualizeBluetoothNetwork(df_bt, 300)\n",
    "VisualizeBluetoothNetwork(df_bt, 600)"
   ]
  },
  {
   "cell_type": "code",
   "execution_count": null,
   "metadata": {
    "colab": {
     "base_uri": "https://localhost:8080/",
     "height": 747
    },
    "colab_type": "code",
    "id": "3gfmnxf5GCCa",
    "outputId": "e620b22f-f5c1-44a5-f567-ef618c3fb4ba"
   },
   "outputs": [],
   "source": [
    "def VisualizeTextMessages(df_sms, df_genders):\n",
    "  \"\"\"Plots the SMS communication by gender of senders and recipients.\"\"\"\n",
    "\n",
    "  # Creates SMS network including gender of the senders.\n",
    "  df_sms_with_gender_sender = pd.merge(\n",
    "      df_sms, df_genders, left_on=\"sender\", right_on=\"# user\").rename(\n",
    "          index=str, columns={\n",
    "              \"female\": \"female_sender\"\n",
    "          }).drop(\n",
    "              \"# user\", axis=1)\n",
    "\n",
    "  # Creates SMS network including gender of the recipients.\n",
    "  df_sms_with_gender = pd.merge(\n",
    "      df_sms_with_gender_sender,\n",
    "      df_genders,\n",
    "      left_on=\"recipient\",\n",
    "      right_on=\"# user\").rename(\n",
    "          index=str, columns={\n",
    "              \"female\": \"female_recipient\"\n",
    "          }).drop(\n",
    "              \"# user\", axis=1)\n",
    "\n",
    "  # Computes total communication (all messages) and number of unique pairs based\n",
    "  # on sender and recipient gender.\n",
    "  totals = np.zeros((2, 2))\n",
    "  unique_pairs = np.zeros((2, 2))\n",
    "  for female_sender in [0, 1]:\n",
    "    for female_recipient in [0, 1]:\n",
    "      totals[female_sender, female_recipient] = df_sms_with_gender[\n",
    "          (df_sms_with_gender[\"female_sender\"] == female_sender)\n",
    "          &\n",
    "          (df_sms_with_gender[\"female_recipient\"] == female_recipient)].shape[0]\n",
    "      unique_pairs[female_sender, female_recipient] = df_sms_with_gender[\n",
    "          (df_sms_with_gender[\"female_sender\"] == female_sender)\n",
    "          & (df_sms_with_gender[\"female_recipient\"] == female_recipient)][[\n",
    "              \"sender\", \"recipient\"\n",
    "          ]].drop_duplicates().shape[0]\n",
    "\n",
    "  # Plots the breakdowns.\n",
    "  plt.matshow(totals, cmap=plt.cm.gray)\n",
    "  plt.grid(False)\n",
    "  plt.xlabel(\"sender\")\n",
    "  plt.ylabel(\"recipient\")\n",
    "  plt.xticks([0, 1], [\"male\", \"female\"])\n",
    "  plt.yticks([0, 1], [\"male\", \"female\"])\n",
    "  [\n",
    "      plt.text(\n",
    "          sender,\n",
    "          recipient,\n",
    "          \"n={}\".format(int(totals[sender][recipient])),\n",
    "          color=\"red\")\n",
    "      for sender, recipient in itertools.product([0, 1], [0, 1])\n",
    "  ]\n",
    "  plt.title(\"Total SMS communication\")\n",
    "\n",
    "  plt.matshow(unique_pairs, cmap=plt.cm.gray)\n",
    "  plt.grid(False)\n",
    "  plt.xlabel(\"sender\")\n",
    "  plt.ylabel(\"recipient\")\n",
    "  plt.xticks([0, 1], [\"male\", \"female\"])\n",
    "  plt.yticks([0, 1], [\"male\", \"female\"])\n",
    "  [\n",
    "      plt.text(\n",
    "          sender,\n",
    "          recipient,\n",
    "          \"n={}\".format(int(unique_pairs[sender][recipient])),\n",
    "          color=\"red\")\n",
    "      for sender, recipient in itertools.product([0, 1], [0, 1])\n",
    "  ]\n",
    "  plt.title(\"Unique SMS pairs\")\n",
    "\n",
    "\n",
    "VisualizeTextMessages(df_sms, df_genders)"
   ]
  },
  {
   "cell_type": "code",
   "execution_count": null,
   "metadata": {},
   "outputs": [],
   "source": []
  }
 ],
 "metadata": {
  "colab": {
   "collapsed_sections": [],
   "name": "Copenhagen Networks Study Notebook.ipynb",
   "provenance": [],
   "version": "0.3.2"
  },
  "kernelspec": {
   "display_name": "Python 3",
   "language": "python",
   "name": "python3"
  },
  "language_info": {
   "codemirror_mode": {
    "name": "ipython",
    "version": 3
   },
   "file_extension": ".py",
   "mimetype": "text/x-python",
   "name": "python",
   "nbconvert_exporter": "python",
   "pygments_lexer": "ipython3",
   "version": "3.8.2"
  },
  "toc": {
   "base_numbering": 1,
   "nav_menu": {},
   "number_sections": true,
   "sideBar": true,
   "skip_h1_title": false,
   "title_cell": "Table of Contents",
   "title_sidebar": "Contents",
   "toc_cell": false,
   "toc_position": {},
   "toc_section_display": true,
   "toc_window_display": false
  },
  "varInspector": {
   "cols": {
    "lenName": 16,
    "lenType": 16,
    "lenVar": 40
   },
   "kernels_config": {
    "python": {
     "delete_cmd_postfix": "",
     "delete_cmd_prefix": "del ",
     "library": "var_list.py",
     "varRefreshCmd": "print(var_dic_list())"
    },
    "r": {
     "delete_cmd_postfix": ") ",
     "delete_cmd_prefix": "rm(",
     "library": "var_list.r",
     "varRefreshCmd": "cat(var_dic_list()) "
    }
   },
   "types_to_exclude": [
    "module",
    "function",
    "builtin_function_or_method",
    "instance",
    "_Feature"
   ],
   "window_display": false
  }
 },
 "nbformat": 4,
 "nbformat_minor": 1
}
