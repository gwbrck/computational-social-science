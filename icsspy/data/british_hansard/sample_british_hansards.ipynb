{
 "cells": [
  {
   "cell_type": "code",
   "execution_count": null,
   "metadata": {},
   "outputs": [],
   "source": [
    "import pandas as pd"
   ]
  },
  {
   "cell_type": "code",
   "execution_count": null,
   "metadata": {},
   "outputs": [],
   "source": [
    "\n",
    "columns = ['speech', 'speakername', 'party', 'constituency', 'year']\n",
    "\n",
    "uk_df = pd.read_csv(\"hansard-speeches-v301.csv\", usecols=columns).dropna(subset=['party', 'speakername', 'speech'])\n",
    "\n",
    "uk_df = uk_df[uk_df['year'].isin([2015, 2016, 2017, 2018, 2019])]\n",
    "\n",
    "uk_df = uk_df.drop(uk_df[uk_df['party'] == 'Speaker'].index)\n",
    "uk_df['party'].value_counts()\n",
    "\n",
    "uk_df.drop(uk_df[uk_df['speech'].apply(lambda x: len(x)) < 200].axes[0], inplace=True)\n",
    "\n",
    "right = ['Conservative']\n",
    "centre = ['Liberal Democrat']\n",
    "left = ['Labour', 'Labour (Co-op)']\n",
    "national = ['Scottish National Party']\n",
    "other = list(uk_df['party'].value_counts().axes[0].drop([*right, *left, *centre, *national]))\n",
    "\n",
    "uk_df.loc[uk_df['party'].isin(right), 'affiliation'] = \"centre-right\"\n",
    "uk_df.loc[uk_df['party'].isin(centre), 'affiliation'] = \"centre\"\n",
    "uk_df.loc[uk_df['party'].isin(left), 'affiliation'] = \"centre-left\"\n",
    "uk_df.loc[uk_df['party'].isin(national), 'affiliation'] = \"national\"\n",
    "uk_df.loc[uk_df['party'].isin(other), 'affiliation'] = \"other\"\n",
    "\n",
    "uk_df['affiliation'].value_counts()"
   ]
  },
  {
   "cell_type": "code",
   "execution_count": null,
   "metadata": {},
   "outputs": [],
   "source": [
    "uk_df_strat = uk_df.groupby(\"affiliation\", group_keys=False).apply(lambda x: x.sample(3000))\n"
   ]
  },
  {
   "cell_type": "code",
   "execution_count": null,
   "metadata": {},
   "outputs": [],
   "source": [
    "uk_df_strat = uk_df_strat.drop(columns='affiliation')"
   ]
  },
  {
   "cell_type": "code",
   "execution_count": null,
   "metadata": {},
   "outputs": [],
   "source": [
    "uk_df_strat"
   ]
  },
  {
   "cell_type": "code",
   "execution_count": null,
   "metadata": {},
   "outputs": [],
   "source": [
    "uk_df_strat.to_csv(\"/home/pierson/dcss_line_by_line/data/british_hansards/hansard-speeches-v301.csv\")"
   ]
  },
  {
   "cell_type": "code",
   "execution_count": null,
   "metadata": {},
   "outputs": [],
   "source": []
  }
 ],
 "metadata": {
  "kernelspec": {
   "display_name": "dcss",
   "language": "python",
   "name": "python3"
  },
  "language_info": {
   "codemirror_mode": {
    "name": "ipython",
    "version": 3
   },
   "file_extension": ".py",
   "mimetype": "text/x-python",
   "name": "python",
   "nbconvert_exporter": "python",
   "pygments_lexer": "ipython3",
   "version": "3.10.8"
  },
  "vscode": {
   "interpreter": {
    "hash": "594e261abcaa100e8a9e1b2f10ea1e1d63e9e9016ddff12aa427e7a1f3c3dda5"
   }
  }
 },
 "nbformat": 4,
 "nbformat_minor": 4
}
