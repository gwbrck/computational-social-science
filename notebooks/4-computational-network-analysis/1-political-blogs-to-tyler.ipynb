{
 "cells": [
  {
   "cell_type": "markdown",
   "metadata": {},
   "source": [
    "---\n",
    "title: \"Political Blogs Network Analysis with `graph-tool`\"\n",
    "description: \"This is the second notebook in a tutorial series on generative network analysis for Introduction to Computational Social Science with Python in the GESIS 2024 Fall Seminar in Computational Social Science.\"\n",
    "author: \"John McLevey\"\n",
    "date: \"{{< date >}}\"\n",
    "categories:\n",
    "---\n",
    "\n",
    "## Introduction\n",
    "\n",
    "In this notebook, we'll recreate the political blogs network visualization from Adamic and Glance (2005),^[Adamic, Lada and Natalie Glance. 2005. \"The political blogosphere and the 2004 US Election: Divided they blog\", in *Proceedings of the WWW-2005 Workshop on the Weblogging Ecosystem*.] as well as a series of visualizations discussed in the lecture. You'll learn how to use graph-tool to fit nested Stochastic Block Models (SBMs) and create informative network visualizations.\n",
    "\n",
    "This notebook assumes familiarity with the content covered in the recorded lecture. Be sure to watch that before working on this notebook!\n",
    "\n",
    "## Setup\n",
    "\n",
    "> [!tip] Environment Setup\n",
    "> For performance reasons, most of `graph-tool` is actually written in C++ and then wrapped in Python. This means that `graph-tool` has some non-Python dependencies that can't be installed using Python-only package managers such as pip or Poetry (which uses pip). The easiest way to install `graph-tool` is to create a conda virtual environment using the conda-forge channel. You can do this with:\n",
    ">\n",
    "> ```zsh\n",
    "> conda create --name gt -c conda-forge graph-tool\n",
    "> cd tutorials/4-computational-network-analysis/\n",
    "> conda activate gt\n",
    "> ```\n",
    "\n",
    "We'll start by importing the necessary libraries, including `graph-tool`, and setting up the environment for inline visualizations."
   ]
  },
  {
   "cell_type": "code",
   "execution_count": null,
   "metadata": {},
   "outputs": [],
   "source": [
    "import numpy as np\n",
    "import graph_tool.all as gt\n",
    "import matplotlib as mpl\n",
    "from icsspy.networks import rotate_positions\n",
    "\n",
    "print(f'Using graph-tool version {gt.__version__}')"
   ]
  },
  {
   "cell_type": "markdown",
   "metadata": {},
   "source": [
    "If you are running this code in a Jupyter Notebook, you'll want to tell `matplotlib` to plot inline.\n",
    "\n",
    "```python\n",
    "%matplotlib inline\n",
    "```\n",
    "\n",
    "## Loading the Political Blogs Dataset\n",
    "\n",
    "We can access the political blogs data directly from the graph-tool data repository."
   ]
  },
  {
   "cell_type": "code",
   "execution_count": null,
   "metadata": {},
   "outputs": [],
   "source": [
    "g = gt.collection.data[\"polblogs\"]\n",
    "print(g)"
   ]
  },
  {
   "cell_type": "markdown",
   "metadata": {},
   "source": [
    "The graph object `g` includes metadata about the network, stored in an internal **property map**. We'll explore property maps in more detail later. For now, let's print the graph metadata."
   ]
  },
  {
   "cell_type": "code",
   "execution_count": null,
   "metadata": {},
   "outputs": [],
   "source": [
    "print(g.gp.readme)"
   ]
  },
  {
   "cell_type": "markdown",
   "metadata": {},
   "source": [
    "## Reproduce the \"Divided They Blog\" Figure\n",
    "\n",
    "![](../../slides/media/divided_they_blog.png)\n",
    "\n",
    "To recreate the \"Divided They Blog\" figure, we need to:\n",
    "\n",
    "- Access information about the binary political classification for each blog node.\n",
    "- Assign different colors to each class using graph-tool.\n",
    "- Plot the network using a force-directed layout algorithm.\n",
    "\n",
    "According to the metadata, the political classification is stored in an internal property map called `value`, where `0` indicates `left-liberal` (Democrats) and `1` indicates `right-conservative` (Republicans). This information is stored in an internal vertex property map, accessible via `g.vp.value`. You can confirm its type with the following:"
   ]
  },
  {
   "cell_type": "code",
   "execution_count": null,
   "metadata": {},
   "outputs": [],
   "source": [
    "type(g.vp.value)"
   ]
  },
  {
   "cell_type": "markdown",
   "metadata": {},
   "source": [
    "We can easily look up the political class for any given node by passing its integer ID. For example, vertex 30:"
   ]
  },
  {
   "cell_type": "code",
   "execution_count": null,
   "metadata": {},
   "outputs": [],
   "source": [
    "g.vp.value[30]"
   ]
  },
  {
   "cell_type": "markdown",
   "metadata": {},
   "source": [
    "To view all classifications, we can iterate over the vertices and print each vertex ID followed by its class label:"
   ]
  },
  {
   "cell_type": "code",
   "execution_count": null,
   "metadata": {},
   "outputs": [],
   "source": [
    "for v in g.vertices():\n",
    "    print(v, g.vp.value[v])"
   ]
  },
  {
   "cell_type": "markdown",
   "metadata": {},
   "source": [
    "### Assigning Colors Based on Political Classification\n",
    "\n",
    "We need to create a mapping between colors and labels. To match the original figure, we'll use red (`#D72F32`) for right-conservative (Republicans) and blue (`#2F357E`) for left-liberal (Democrats)."
   ]
  },
  {
   "cell_type": "code",
   "execution_count": null,
   "metadata": {},
   "outputs": [],
   "source": [
    "political_colors = {0: \"#2F357E\", 1: \"#D72F32\"}  # color map\n",
    "vertex_political_colors = g.new_vertex_property(\"string\")  # new vertex property\n",
    "\n",
    "# assign colors to each vertex based on the political classification\n",
    "for v in g.vertices():\n",
    "    vertex_political_colors[v] = political_colors[g.vp.value[v]]"
   ]
  },
  {
   "cell_type": "markdown",
   "metadata": {},
   "source": [
    "### Force-Directed Layout and Initial Visualization\n",
    "\n",
    "To reproduce the layout in the figure, we'll use a force-directed layout with the default parameters. Let's see what we have:"
   ]
  },
  {
   "cell_type": "code",
   "execution_count": null,
   "metadata": {},
   "outputs": [],
   "source": [
    "pos = gt.sfdp_layout(g)\n",
    "\n",
    "gt.graph_draw(\n",
    "    g, pos,\n",
    "    vertex_fill_color=vertex_political_colors,\n",
    "    output_size=(1200, 1200),\n",
    "    bg_color=[1, 1, 1, 1], # white background (transparent by default)\n",
    "    inline=True,\n",
    "    output=\"output/polblogs_0.png\",\n",
    ")"
   ]
  },
  {
   "cell_type": "markdown",
   "metadata": {},
   "source": [
    "As you can see, there are many isolates in this figure. To create a cleaner and more informative visualization, we'll focus only on the giant component."
   ]
  },
  {
   "cell_type": "code",
   "execution_count": null,
   "metadata": {},
   "outputs": [],
   "source": [
    "giant = gt.extract_largest_component(g, directed=True)\n",
    "giant"
   ]
  },
  {
   "cell_type": "markdown",
   "metadata": {},
   "source": [
    "Recompute the positions for the giant component and visualize it:"
   ]
  },
  {
   "cell_type": "code",
   "execution_count": null,
   "metadata": {},
   "outputs": [],
   "source": [
    "pos = gt.sfdp_layout(giant)\n",
    "\n",
    "gt.graph_draw(\n",
    "    giant, pos,\n",
    "    vertex_fill_color=vertex_political_colors,\n",
    "    output_size=(1200, 1200),\n",
    "    bg_color=[1, 1, 1, 1],\n",
    "    inline=True,\n",
    "    output=\"output/polblogs_1.png\",\n",
    ")"
   ]
  },
  {
   "cell_type": "markdown",
   "metadata": {},
   "source": [
    "### Rotating the Layout for Better Visualization\n",
    "\n",
    "To re-create the original figure (and improve aesthetics), we need to rotate the figure so that the two clusters are horizontally aligned. We can use the `rotate_positions()` function from the course package to do this:"
   ]
  },
  {
   "cell_type": "code",
   "execution_count": null,
   "metadata": {},
   "outputs": [],
   "source": [
    "pos = rotate_positions(pos, a=90)\n",
    "\n",
    "gt.graph_draw(\n",
    "    giant, pos,\n",
    "    vertex_fill_color=vertex_political_colors,\n",
    "    output_size=(1200, 1200),\n",
    "    bg_color=[1, 1, 1, 1],\n",
    "    inline=True,\n",
    "    output=\"output/polblogs_2.png\",\n",
    ")"
   ]
  },
  {
   "cell_type": "markdown",
   "metadata": {},
   "source": [
    "### Fitting the First Nested SBM\n",
    "\n",
    "To recreate the next figure, we need to fit our first Nested SBM using the `minimize_nested_blockmodel_dl()` function. This function selects the block partition with the lowest description length. The result is saved to blockstate:"
   ]
  },
  {
   "cell_type": "code",
   "execution_count": null,
   "metadata": {},
   "outputs": [],
   "source": [
    "blockstate = gt.minimize_nested_blockmodel_dl(giant)"
   ]
  },
  {
   "cell_type": "markdown",
   "metadata": {},
   "source": [
    "We can retrieve information about the block assignments at different levels of the nested SBM by specifying the level. Here, we'll use the lowest level, `level 0`:"
   ]
  },
  {
   "cell_type": "code",
   "execution_count": null,
   "metadata": {},
   "outputs": [],
   "source": [
    "blockstate_level_0 = blockstate.levels[0]\n",
    "blockstate_level_0"
   ]
  },
  {
   "cell_type": "markdown",
   "metadata": {},
   "source": [
    "### Visualizing the Blockstate\n",
    "\n",
    "`graph-tool` provides a convenient drawing method for blockstates. We can visualize the block assignments as follows:"
   ]
  },
  {
   "cell_type": "code",
   "execution_count": null,
   "metadata": {},
   "outputs": [],
   "source": [
    "blockstate_level_0.draw(\n",
    "    pos=pos,\n",
    "    output_size=(1200, 1200),\n",
    "    bg_color=[1, 1, 1, 1],\n",
    "    output=\"output/polblogs_3.png\",\n",
    "    inline=True\n",
    ")"
   ]
  },
  {
   "cell_type": "markdown",
   "metadata": {},
   "source": [
    "While the results may vary slightly due to the stochastic nature of the model, we have effectively recreated the figure!\n",
    "\n",
    "### Refining the Layout Based on SBM Grouping\n",
    "\n",
    "As a refinement step **based on model criticism**, we'll adjust the force-directed layout by adding an attractive force between nodes in the same block. This is done by passing the following arguments to `sfdp_layout()`:\n",
    "\n",
    "- `groups`: A vertex property map that assigns nodes to specific groups, in this case, block assignments at the lowest level of the nested SBM (`blockstate_level_0.b`). This adds additional attractive forces for block membership in the layout.\n",
    "- `gamma`: Controls the strength of the attractive force for nodes in the same block. A small value corresponds to a weak force and more spread out clusters, while a larger value results in more compact clusters.\n",
    "\n",
    "We'll pass `blockstate_level_0.b` (block assignments) to `sfdp_layout()`. The `.b` attribute provides access to the block assignments."
   ]
  },
  {
   "cell_type": "code",
   "execution_count": null,
   "metadata": {},
   "outputs": [],
   "source": [
    "pos_refined = gt.sfdp_layout(g, groups=blockstate_level_0.b, gamma=.04)"
   ]
  },
  {
   "cell_type": "markdown",
   "metadata": {},
   "source": [
    "We'll use `pos_refined` for our next `draw()` and customize the edge colors for better readability:\n",
    "\n",
    "- `edge_gradient=[]` disables edge gradients, using a solid color instead.\n",
    "- `edge_color=\"#33333322\"`: Sets the edge color to a semi-transparent gray."
   ]
  },
  {
   "cell_type": "code",
   "execution_count": null,
   "metadata": {},
   "outputs": [],
   "source": [
    "blockstate_level_0.draw(\n",
    "    pos=pos_refined,\n",
    "    edge_gradient=[],\n",
    "    edge_color=\"#33333322\",\n",
    "    bg_color=[1, 1, 1, 1],\n",
    "    output_size=(1200, 1200),\n",
    "    inline=True,\n",
    "    output=\"output/polblogs_4.png\",\n",
    ")"
   ]
  },
  {
   "cell_type": "markdown",
   "metadata": {},
   "source": [
    "### Rotating the Final Visualization\n",
    "\n",
    "Let's rotate the refined layout for a more aesthetically pleasing figure:"
   ]
  },
  {
   "cell_type": "code",
   "execution_count": null,
   "metadata": {},
   "outputs": [],
   "source": [
    "pos_refined = rotate_positions(pos_refined, 90)\n",
    "\n",
    "blockstate_level_0.draw(\n",
    "    pos=pos_refined,\n",
    "    edge_gradient=[],\n",
    "    edge_color=\"#33333322\",\n",
    "    bg_color=[1, 1, 1, 1],\n",
    "    output_size=(1200, 1200),\n",
    "    inline=True,\n",
    "    output=\"output/polblogs_5.png\",\n",
    ")"
   ]
  },
  {
   "cell_type": "markdown",
   "metadata": {},
   "source": [
    "## Chordal Diagram with Hierarchical Edge Bundling\n",
    "\n",
    "To wrap up this first (of three) `graph-tool` tutorials, we'll develop a couple of chordal figure with hierarchical edge bundling. This is straightforward using the blockstate .draw() method, which defaults to this type of visualization:"
   ]
  },
  {
   "cell_type": "code",
   "execution_count": null,
   "metadata": {},
   "outputs": [],
   "source": [
    "blockstate.draw(\n",
    "    output_size=(1200, 1200),\n",
    "    bg_color=[1, 1, 1, 1],\n",
    "    output=\"output/polblogs_6.png\"\n",
    ")"
   ]
  },
  {
   "cell_type": "markdown",
   "metadata": {},
   "source": [
    "### Adjusting Node Colors and Exploring Hierarchy\n",
    "\n",
    "For the final adjustment, let's assign node colors based on political classification rather than block membership. The block structure will still be evident from the layout, but this will help us see the extent to which the binary classification lines up with the hierarchical blockmodel."
   ]
  },
  {
   "cell_type": "code",
   "execution_count": null,
   "metadata": {},
   "outputs": [],
   "source": [
    "blockstate.draw(\n",
    "    vertex_fill_color=vertex_political_colors,\n",
    "    output_size=(1200, 1200),\n",
    "    bg_color=[1, 1, 1, 1],\n",
    "    inline=True,\n",
    "    output=\"output/polblogs_7.png\",\n",
    ")"
   ]
  },
  {
   "cell_type": "markdown",
   "metadata": {},
   "source": [
    "This visualization reveals the hierarchical structure more clearly. It's a bit tough to see right now, but the blue square node right in the middle of the network represents the entire graph merged into one group at the highest level of the block hierarchy. As you move outward from the center, the graph splits into smaller and smaller blocks, which correspond to different political blogs at the lowest level of the block hierarchy.\n",
    "\n",
    "You may notice that the nested SBM reveals a more complex structure than a simple left-right division. The hierarchy shows internal differentiation within each political cluster, revealing sub-communities that were not as apparent in the force-directed layout. However, we can see a clear split into two groups at the highest-level below the full graph that does align with the binary classifications.\n",
    "\n",
    "### Emphasize the Hierachichal Block Structure\n",
    "\n",
    "As a final step, we can tweak the appearance of the block-level graph to make it easier to see and more visually appealing. We will modify the properties of the hierarchical block nodes and edges using `hvprops` (hierarchical vertex properties) and `heprops` (hierarchical edge properties)."
   ]
  },
  {
   "cell_type": "code",
   "execution_count": null,
   "metadata": {},
   "outputs": [],
   "source": [
    "# customize hierarchical vertex properties (block nodes)\n",
    "hvprops = {\n",
    "    \"fill_color\": \"white\",  # make block nodes white (will top edges with color)\n",
    "    \"size\": 30,             # increase the size of block nodes\n",
    "}\n",
    "\n",
    "# customize hierarchical edge properties (block edges)\n",
    "heprops = {\n",
    "    \"color\": \"white\",       # make block edges white (will also top edges with color)\n",
    "    \"pen_width\": 2,         # thicken the edges\n",
    "}\n",
    "\n",
    "# draw the blockstate with the custom hierarchical properties\n",
    "blockstate.draw(\n",
    "    vertex_fill_color=vertex_political_colors,\n",
    "    hvprops=hvprops,\n",
    "    heprops=heprops,\n",
    "    output_size=(1200, 1200),\n",
    "    bg_color=[1, 1, 1, 1],\n",
    "    inline=True,\n",
    "    output=\"output/polblogs_8.png\",\n",
    ")"
   ]
  },
  {
   "cell_type": "markdown",
   "metadata": {},
   "source": [
    "I decieded to go with with white for the block nodes and edges because they are being drawn on top of the blue, red, and gradient edges. I think this makes the block nodes and edges more prominent, improving the overall readability and aesthetics of the hierarchical block visualization, but you can change this to suit your preferences.\n",
    "\n",
    "## Next Steps\n",
    "\n",
    "With that, we've successfully recreated the series of political blog network figures from the lecture using `graph-tool`. We learned how to run `graph-tool` code in a conda environment, extracted the giant component, fit our first nested Stochastic Blockmodel (NSBM), and created a series of visualizions of the network and it's hierarchical block structure. We also learned how to adjust force_directed layouts to add additional attractors for group memberships based on simple model criticism, and how to modify and refine the visual properties of networks at different levels of the block hierarchy.\n",
    "\n",
    "In the next part of the tutorial, we'll explore the Enron email networks, applying similar techniques and deepening our understanding of community detection in large networks. We'll fit different kinds of models to different kinds of network representations and then rank the models based on their description lengths. As a bonus, we will compare these to results from modularity-maximization approaches (which you should not use)."
   ]
  }
 ],
 "metadata": {
  "kernelspec": {
   "display_name": "Python 3 (ipykernel)",
   "language": "python",
   "name": "python3",
   "path": "/Users/johnmclevey/miniconda3/share/jupyter/kernels/python3"
  }
 },
 "nbformat": 4,
 "nbformat_minor": 4
}
